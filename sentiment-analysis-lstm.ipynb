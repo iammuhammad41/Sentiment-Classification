{
  "cells": [
    {
      "cell_type": "markdown",
      "metadata": {
        "id": "view-in-github",
        "colab_type": "text"
      },
      "source": [
        "<a href=\"https://colab.research.google.com/github/iammuhammad41/Sentiment-Classification/blob/main/sentiment-analysis-lstm.ipynb\" target=\"_parent\"><img src=\"https://colab.research.google.com/assets/colab-badge.svg\" alt=\"Open In Colab\"/></a>"
      ]
    },
    {
      "cell_type": "code",
      "execution_count": 1,
      "id": "06cdf0a8",
      "metadata": {
        "_cell_guid": "b1076dfc-b9ad-4769-8c92-a6c4dae69d19",
        "_uuid": "8f2839f25d086af736a60e9eeb907d3b93b6e0e5",
        "execution": {
          "iopub.execute_input": "2025-06-22T16:44:30.053577Z",
          "iopub.status.busy": "2025-06-22T16:44:30.053209Z",
          "iopub.status.idle": "2025-06-22T16:45:58.855649Z",
          "shell.execute_reply": "2025-06-22T16:45:58.854648Z"
        },
        "papermill": {
          "duration": 88.811674,
          "end_time": "2025-06-22T16:45:58.860219",
          "exception": false,
          "start_time": "2025-06-22T16:44:30.048545",
          "status": "completed"
        },
        "tags": [],
        "id": "06cdf0a8"
      },
      "outputs": [],
      "source": [
        "import tensorflow as tf\n",
        "from keras.src.layers import Embedding\n",
        "from keras.src.legacy.preprocessing.text import Tokenizer\n",
        "from keras.src.utils import pad_sequences\n",
        "from nltk import word_tokenize\n",
        "from nltk.corpus import stopwords\n",
        "from tensorflow.keras.layers import Input, Bidirectional, LSTM, Dense, Lambda\n",
        "from tensorflow.keras.models import Model\n",
        "import numpy as np\n",
        "import pandas as pd\n",
        "from gensim.models import KeyedVectors\n",
        "import kagglehub\n",
        "import nltk\n",
        "from tensorflow.python.keras.utils.np_utils import to_categorical\n",
        "\n",
        "\n",
        "import os\n",
        "for dirname, _, filenames in os.walk('/kaggle/input'):\n",
        "    for filename in filenames:\n",
        "        print(os.path.join(dirname, filename))\n"
      ]
    },
    {
      "cell_type": "code",
      "execution_count": 2,
      "id": "d0912ff8",
      "metadata": {
        "execution": {
          "iopub.execute_input": "2025-06-22T16:45:58.868089Z",
          "iopub.status.busy": "2025-06-22T16:45:58.867477Z",
          "iopub.status.idle": "2025-06-22T16:45:59.114171Z",
          "shell.execute_reply": "2025-06-22T16:45:59.113140Z"
        },
        "papermill": {
          "duration": 0.252062,
          "end_time": "2025-06-22T16:45:59.115733",
          "exception": false,
          "start_time": "2025-06-22T16:45:58.863671",
          "status": "completed"
        },
        "tags": [],
        "id": "d0912ff8"
      },
      "outputs": [],
      "source": [
        "nltk.download('punkt')\n",
        "nltk.download('stopwords')\n",
        "\n",
        "\n",
        "stop_words = set(stopwords.words('english'))"
      ]
    },
    {
      "cell_type": "code",
      "execution_count": null,
      "id": "71f5eaf3",
      "metadata": {
        "execution": {
          "iopub.execute_input": "2025-06-22T16:45:59.123371Z",
          "iopub.status.busy": "2025-06-22T16:45:59.123039Z",
          "iopub.status.idle": "2025-06-22T16:45:59.350447Z",
          "shell.execute_reply": "2025-06-22T16:45:59.349467Z"
        },
        "papermill": {
          "duration": 0.233082,
          "end_time": "2025-06-22T16:45:59.352325",
          "exception": false,
          "start_time": "2025-06-22T16:45:59.119243",
          "status": "completed"
        },
        "tags": [],
        "id": "71f5eaf3"
      },
      "outputs": [],
      "source": [
        "df_train = pd.read_csv('/kaggle/input/sentiment-analysis-dataset/train.csv', encoding='latin1')\n",
        "df_test = pd.read_csv('/kaggle/input/sentiment-analysis-dataset/test.csv', encoding='latin1')"
      ]
    },
    {
      "cell_type": "code",
      "execution_count": null,
      "id": "cc0c9597",
      "metadata": {
        "execution": {
          "iopub.execute_input": "2025-06-22T16:45:59.360803Z",
          "iopub.status.busy": "2025-06-22T16:45:59.360130Z",
          "iopub.status.idle": "2025-06-22T16:45:59.364846Z",
          "shell.execute_reply": "2025-06-22T16:45:59.364098Z"
        },
        "papermill": {
          "duration": 0.010445,
          "end_time": "2025-06-22T16:45:59.366235",
          "exception": false,
          "start_time": "2025-06-22T16:45:59.355790",
          "status": "completed"
        },
        "tags": [],
        "id": "cc0c9597"
      },
      "outputs": [],
      "source": [
        "def remove_stopwords(text):\n",
        "    tokens = word_tokenize(text.lower())  # tokenize and lowercase\n",
        "    filtered = [word for word in tokens if word.isalnum() and word not in stop_words]\n",
        "    return \" \".join(filtered)"
      ]
    },
    {
      "cell_type": "code",
      "execution_count": null,
      "id": "04d7cc45",
      "metadata": {
        "execution": {
          "iopub.execute_input": "2025-06-22T16:45:59.373450Z",
          "iopub.status.busy": "2025-06-22T16:45:59.373160Z",
          "iopub.status.idle": "2025-06-22T16:46:03.654241Z",
          "shell.execute_reply": "2025-06-22T16:46:03.653375Z"
        },
        "papermill": {
          "duration": 4.2865,
          "end_time": "2025-06-22T16:46:03.655923",
          "exception": false,
          "start_time": "2025-06-22T16:45:59.369423",
          "status": "completed"
        },
        "tags": [],
        "id": "04d7cc45"
      },
      "outputs": [],
      "source": [
        "X_train = df_train[['text']]\n",
        "y_train = df_train['sentiment'].map({'negative': 0, 'neutral': 1, 'positive': 2})  # or binary\n",
        "df_test = df_test.dropna()\n",
        "X_test = df_test[['text']]\n",
        "y_test = df_test['sentiment'].map({'negative': 0, 'neutral': 1, 'positive': 2})  # Only if present\n",
        "\n",
        "# Flatten the DataFrame columns\n",
        "train_texts = X_train['text'].astype(str).apply(remove_stopwords)\n",
        "test_texts = X_test['text'].astype(str).apply(remove_stopwords)\n",
        "\n",
        "train_y = y_train.astype(int).tolist()\n",
        "test_y = y_test.astype(int).tolist()\n",
        "\n",
        "y_train_cat = to_categorical(train_y, num_classes=3)\n",
        "y_test_cat = to_categorical(test_y, num_classes=3)"
      ]
    },
    {
      "cell_type": "code",
      "execution_count": 3,
      "id": "b2453eee",
      "metadata": {
        "execution": {
          "iopub.execute_input": "2025-06-22T16:46:03.663311Z",
          "iopub.status.busy": "2025-06-22T16:46:03.663018Z",
          "iopub.status.idle": "2025-06-22T16:46:04.349253Z",
          "shell.execute_reply": "2025-06-22T16:46:04.348347Z"
        },
        "papermill": {
          "duration": 0.691512,
          "end_time": "2025-06-22T16:46:04.350631",
          "exception": false,
          "start_time": "2025-06-22T16:46:03.659119",
          "status": "completed"
        },
        "tags": [],
        "id": "b2453eee"
      },
      "outputs": [],
      "source": [
        "# Tokenize\n",
        "tokenizer = Tokenizer()\n",
        "tokenizer.fit_on_texts(train_texts)\n",
        "train_sequences = tokenizer.texts_to_sequences(train_texts)\n",
        "test_sequences = tokenizer.texts_to_sequences(test_texts)\n",
        "\n",
        "max_len = max(max(len(seq) for seq in train_sequences), 50)\n",
        "\n",
        "X_train_pad = pad_sequences(train_sequences, maxlen=max_len)\n",
        "X_test_pad = pad_sequences(test_sequences, maxlen=max_len)\n",
        "\n",
        "word_index = tokenizer.word_index\n",
        "\n",
        "# Print first 5 keys\n",
        "for key in list(word_index.keys())[:5]:\n",
        "    print(key, word_index[key])"
      ]
    },
    {
      "cell_type": "code",
      "execution_count": 4,
      "id": "f77c0f57",
      "metadata": {
        "execution": {
          "iopub.execute_input": "2025-06-22T16:46:04.358834Z",
          "iopub.status.busy": "2025-06-22T16:46:04.358030Z",
          "iopub.status.idle": "2025-06-22T16:46:04.364410Z",
          "shell.execute_reply": "2025-06-22T16:46:04.363579Z"
        },
        "papermill": {
          "duration": 0.011464,
          "end_time": "2025-06-22T16:46:04.365732",
          "exception": false,
          "start_time": "2025-06-22T16:46:04.354268",
          "status": "completed"
        },
        "tags": [],
        "id": "f77c0f57"
      },
      "outputs": [],
      "source": [
        "X_train_pad.shape"
      ]
    },
    {
      "cell_type": "code",
      "execution_count": 5,
      "id": "faac1506",
      "metadata": {
        "execution": {
          "iopub.execute_input": "2025-06-22T16:46:04.372678Z",
          "iopub.status.busy": "2025-06-22T16:46:04.372446Z",
          "iopub.status.idle": "2025-06-22T16:46:04.377499Z",
          "shell.execute_reply": "2025-06-22T16:46:04.376717Z"
        },
        "papermill": {
          "duration": 0.010023,
          "end_time": "2025-06-22T16:46:04.378834",
          "exception": false,
          "start_time": "2025-06-22T16:46:04.368811",
          "status": "completed"
        },
        "tags": [],
        "id": "faac1506"
      },
      "outputs": [],
      "source": [
        "X_test_pad.shape"
      ]
    },
    {
      "cell_type": "code",
      "execution_count": 6,
      "id": "b2a984fa",
      "metadata": {
        "execution": {
          "iopub.execute_input": "2025-06-22T16:46:04.386217Z",
          "iopub.status.busy": "2025-06-22T16:46:04.385965Z",
          "iopub.status.idle": "2025-06-22T16:46:59.149042Z",
          "shell.execute_reply": "2025-06-22T16:46:59.148212Z"
        },
        "papermill": {
          "duration": 54.768594,
          "end_time": "2025-06-22T16:46:59.150668",
          "exception": false,
          "start_time": "2025-06-22T16:46:04.382074",
          "status": "completed"
        },
        "tags": [],
        "id": "b2a984fa"
      },
      "outputs": [],
      "source": [
        "# Build Embedding Matrix from Word2Vec\n",
        "path = kagglehub.dataset_download(\"leadbest/googlenewsvectorsnegative300\")\n",
        "path += '/GoogleNews-vectors-negative300.bin'\n",
        "print(\"Path to dataset files:\", path)\n",
        "\n",
        "word2vec = KeyedVectors.load_word2vec_format(path, binary=True)\n",
        "\n",
        "embedding_dim = 300\n",
        "vocab_size = len(word_index) + 1\n",
        "embedding_matrix = np.zeros((vocab_size, embedding_dim))\n",
        "\n",
        "for word, i in word_index.items():\n",
        "    if word in word2vec:\n",
        "        embedding_matrix[i] = word2vec[word]"
      ]
    },
    {
      "cell_type": "code",
      "execution_count": 7,
      "id": "427f79c5",
      "metadata": {
        "execution": {
          "iopub.execute_input": "2025-06-22T16:46:59.159303Z",
          "iopub.status.busy": "2025-06-22T16:46:59.159030Z",
          "iopub.status.idle": "2025-06-22T16:46:59.164483Z",
          "shell.execute_reply": "2025-06-22T16:46:59.163751Z"
        },
        "papermill": {
          "duration": 0.011034,
          "end_time": "2025-06-22T16:46:59.165783",
          "exception": false,
          "start_time": "2025-06-22T16:46:59.154749",
          "status": "completed"
        },
        "tags": [],
        "id": "427f79c5"
      },
      "outputs": [],
      "source": [
        "embedding_matrix.shape"
      ]
    },
    {
      "cell_type": "code",
      "execution_count": null,
      "id": "220d36af",
      "metadata": {
        "execution": {
          "iopub.execute_input": "2025-06-22T16:46:59.173449Z",
          "iopub.status.busy": "2025-06-22T16:46:59.173168Z",
          "iopub.status.idle": "2025-06-22T16:46:59.227165Z",
          "shell.execute_reply": "2025-06-22T16:46:59.226258Z"
        },
        "papermill": {
          "duration": 0.059363,
          "end_time": "2025-06-22T16:46:59.228552",
          "exception": false,
          "start_time": "2025-06-22T16:46:59.169189",
          "status": "completed"
        },
        "tags": [],
        "id": "220d36af"
      },
      "outputs": [],
      "source": [
        "class AttentionLayer(tf.keras.layers.Layer):\n",
        "    def __init__(self, **kwargs):\n",
        "        super(AttentionLayer, self).__init__(**kwargs)\n",
        "        self.u = None\n",
        "        self.b = None\n",
        "        self.W = None\n",
        "\n",
        "    def build(self, input_shape):\n",
        "        # Trainable weights for attention mechanism\n",
        "        self.W = self.add_weight(name=\"att_weight\", shape=(input_shape[-1], input_shape[-1]),\n",
        "                                 initializer=\"glorot_uniform\", trainable=True)\n",
        "        self.b = self.add_weight(name=\"att_bias\", shape=(input_shape[-1],),\n",
        "                                 initializer=\"zeros\", trainable=True)\n",
        "        self.u = self.add_weight(name=\"att_u\", shape=(input_shape[-1],),\n",
        "                                 initializer=\"glorot_uniform\", trainable=True)\n",
        "\n",
        "        super(AttentionLayer, self).build(input_shape)\n",
        "\n",
        "    def call(self, inputs):\n",
        "        # Score computation\n",
        "        v = tf.tanh(tf.tensordot(inputs, self.W, axes=1) + self.b)\n",
        "        vu = tf.tensordot(v, self.u, axes=1)\n",
        "        alphas = tf.nn.softmax(vu)\n",
        "\n",
        "        # Weighted sum of input\n",
        "        output = tf.reduce_sum(inputs * tf.expand_dims(alphas, -1), axis=1)\n",
        "        return output, alphas\n",
        "\n",
        "# Sample Bi-LSTM model with Attention\n",
        "def create_model(input_shape):\n",
        "    inputs = Input(shape=input_shape)\n",
        "\n",
        "    embedding_layer = Embedding(\n",
        "        input_dim=vocab_size,\n",
        "        output_dim=embedding_dim,\n",
        "        input_length=max_len,\n",
        "        trainable=False)(inputs)\n",
        "\n",
        "    # Bi-LSTM layer\n",
        "    lstm_out = Bidirectional(LSTM(64, return_sequences=True))(embedding_layer)\n",
        "\n",
        "    # Add Attention layer\n",
        "    attention_out, attention_weights = AttentionLayer()(lstm_out)\n",
        "\n",
        "    reshaped = Lambda(lambda x: tf.expand_dims(x, axis=1))(attention_out)  # (batch, 1, features)\n",
        "\n",
        "    # LSTM  layer post attention\n",
        "    lstm_after_attn = LSTM(64, return_sequences=False)(reshaped)\n",
        "\n",
        "    # flatten layer\n",
        "    dense = Dense(128, activation='relu')(lstm_after_attn)\n",
        "\n",
        "    # Final Dense layer\n",
        "    outputs = Dense(3, activation='softmax')(dense)\n",
        "\n",
        "    # Define the model\n",
        "    return Model(inputs, outputs)"
      ]
    },
    {
      "cell_type": "code",
      "execution_count": 8,
      "id": "54c2f67d",
      "metadata": {
        "execution": {
          "iopub.execute_input": "2025-06-22T16:46:59.236328Z",
          "iopub.status.busy": "2025-06-22T16:46:59.236064Z",
          "iopub.status.idle": "2025-06-22T16:46:59.601427Z",
          "shell.execute_reply": "2025-06-22T16:46:59.600602Z"
        },
        "papermill": {
          "duration": 0.370659,
          "end_time": "2025-06-22T16:46:59.602770",
          "exception": false,
          "start_time": "2025-06-22T16:46:59.232111",
          "status": "completed"
        },
        "tags": [],
        "id": "54c2f67d"
      },
      "outputs": [],
      "source": [
        "# Set input shape and compile the model\n",
        "input_shape = (50,)\n",
        "model = create_model(input_shape)\n",
        "model.compile(optimizer='adam', loss='categorical_crossentropy', metrics=['accuracy'])\n",
        "model.summary()"
      ]
    },
    {
      "cell_type": "code",
      "execution_count": 9,
      "id": "b9f1c67c",
      "metadata": {
        "execution": {
          "iopub.execute_input": "2025-06-22T16:46:59.612051Z",
          "iopub.status.busy": "2025-06-22T16:46:59.611734Z",
          "iopub.status.idle": "2025-06-22T17:16:05.961835Z",
          "shell.execute_reply": "2025-06-22T17:16:05.960885Z"
        },
        "papermill": {
          "duration": 1746.356227,
          "end_time": "2025-06-22T17:16:05.963262",
          "exception": false,
          "start_time": "2025-06-22T16:46:59.607035",
          "status": "completed"
        },
        "tags": [],
        "id": "b9f1c67c"
      },
      "outputs": [],
      "source": [
        "# Train Model\n",
        "model.fit(X_train_pad, np.array(y_train_cat), epochs=50, batch_size=32, validation_split=0.2)\n",
        "\n",
        "# Test Model\n",
        "loss, accuracy = model.evaluate(X_test_pad, np.array(y_test_cat))\n",
        "print(f\"Test Accuracy: {accuracy * 100:.2f}%\")"
      ]
    }
  ],
  "metadata": {
    "kaggle": {
      "accelerator": "none",
      "dataSources": [
        {
          "datasetId": 6763,
          "sourceId": 9801,
          "sourceType": "datasetVersion"
        },
        {
          "datasetId": 989445,
          "sourceId": 1808590,
          "sourceType": "datasetVersion"
        },
        {
          "datasetId": 1391881,
          "sourceId": 2307650,
          "sourceType": "datasetVersion"
        }
      ],
      "dockerImageVersionId": 31040,
      "isGpuEnabled": false,
      "isInternetEnabled": true,
      "language": "python",
      "sourceType": "notebook"
    },
    "kernelspec": {
      "display_name": "Python 3",
      "language": "python",
      "name": "python3"
    },
    "language_info": {
      "codemirror_mode": {
        "name": "ipython",
        "version": 3
      },
      "file_extension": ".py",
      "mimetype": "text/x-python",
      "name": "python",
      "nbconvert_exporter": "python",
      "pygments_lexer": "ipython3",
      "version": "3.11.11"
    },
    "papermill": {
      "default_parameters": {},
      "duration": 1905.058901,
      "end_time": "2025-06-22T17:16:09.721339",
      "environment_variables": {},
      "exception": null,
      "input_path": "__notebook__.ipynb",
      "output_path": "__notebook__.ipynb",
      "parameters": {},
      "start_time": "2025-06-22T16:44:24.662438",
      "version": "2.6.0"
    },
    "colab": {
      "provenance": [],
      "include_colab_link": true
    }
  },
  "nbformat": 4,
  "nbformat_minor": 5
}