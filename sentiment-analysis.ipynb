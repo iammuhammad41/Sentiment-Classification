{
  "cells": [
    {
      "cell_type": "markdown",
      "metadata": {
        "id": "view-in-github",
        "colab_type": "text"
      },
      "source": [
        "<a href=\"https://colab.research.google.com/github/iammuhammad41/Sentiment-Classification/blob/main/sentiment-analysis.ipynb\" target=\"_parent\"><img src=\"https://colab.research.google.com/assets/colab-badge.svg\" alt=\"Open In Colab\"/></a>"
      ]
    },
    {
      "cell_type": "code",
      "execution_count": 1,
      "id": "1cd37916",
      "metadata": {
        "execution": {
          "iopub.execute_input": "2025-06-05T18:37:08.593561Z",
          "iopub.status.busy": "2025-06-05T18:37:08.593311Z",
          "iopub.status.idle": "2025-06-05T18:37:12.721028Z",
          "shell.execute_reply": "2025-06-05T18:37:12.720231Z"
        },
        "papermill": {
          "duration": 4.134846,
          "end_time": "2025-06-05T18:37:12.722554",
          "exception": false,
          "start_time": "2025-06-05T18:37:08.587708",
          "status": "completed"
        },
        "tags": [],
        "id": "1cd37916"
      },
      "outputs": [],
      "source": [
        "import pandas as pd\n",
        "import numpy as np\n",
        "import matplotlib.pyplot as plt\n",
        "import seaborn as sns\n",
        "import re\n",
        "import string\n",
        "import pickle\n",
        "import warnings\n",
        "warnings.filterwarnings('ignore')\n",
        "import nltk\n",
        "from nltk.corpus import stopwords\n",
        "from nltk.tokenize import word_tokenize\n",
        "from nltk.stem import WordNetLemmatizer\n",
        "from sklearn.model_selection import train_test_split\n",
        "from sklearn.feature_extraction.text import CountVectorizer, TfidfVectorizer\n",
        "from sklearn.linear_model import LogisticRegression\n",
        "from sklearn.ensemble import RandomForestClassifier\n",
        "from sklearn.svm import LinearSVC\n",
        "from sklearn.naive_bayes import MultinomialNB\n",
        "from sklearn.pipeline import Pipeline\n",
        "from sklearn.metrics import classification_report, confusion_matrix, accuracy_score\n",
        "\n",
        "nltk.download('punkt')\n",
        "nltk.download('stopwords')\n",
        "nltk.download('wordnet')\n",
        "\n",
        "\n",
        "plt.style.use('ggplot')\n",
        "sns.set(style='whitegrid')"
      ]
    },
    {
      "cell_type": "code",
      "execution_count": 2,
      "id": "022cc0fc",
      "metadata": {
        "execution": {
          "iopub.execute_input": "2025-06-05T18:37:12.752800Z",
          "iopub.status.busy": "2025-06-05T18:37:12.752421Z",
          "iopub.status.idle": "2025-06-05T18:37:12.968134Z",
          "shell.execute_reply": "2025-06-05T18:37:12.967405Z"
        },
        "papermill": {
          "duration": 0.222615,
          "end_time": "2025-06-05T18:37:12.969405",
          "exception": false,
          "start_time": "2025-06-05T18:37:12.746790",
          "status": "completed"
        },
        "tags": [],
        "id": "022cc0fc"
      },
      "outputs": [],
      "source": [
        "# Load datasets\n",
        "train_data = pd.read_csv('/kaggle/input/sentiment-analysis-dataset/train.csv', encoding='latin1')\n",
        "test_data = pd.read_csv('/kaggle/input/sentiment-analysis-dataset/test.csv', encoding='latin1')\n",
        "\n",
        "# Display basic information\n",
        "print(\"Training data shape:\", train_data.shape)\n",
        "print(\"Test data shape:\", test_data.shape)\n",
        "\n",
        "# Preview the first few rows of the training data\n",
        "print(\"\\nFirst 5 rows of training data:\")\n",
        "display(train_data.head())"
      ]
    },
    {
      "cell_type": "code",
      "execution_count": 3,
      "id": "8224cb59",
      "metadata": {
        "execution": {
          "iopub.execute_input": "2025-06-05T18:37:12.982027Z",
          "iopub.status.busy": "2025-06-05T18:37:12.981777Z",
          "iopub.status.idle": "2025-06-05T18:37:12.999343Z",
          "shell.execute_reply": "2025-06-05T18:37:12.998595Z"
        },
        "papermill": {
          "duration": 0.024639,
          "end_time": "2025-06-05T18:37:13.000475",
          "exception": false,
          "start_time": "2025-06-05T18:37:12.975836",
          "status": "completed"
        },
        "tags": [],
        "id": "8224cb59"
      },
      "outputs": [],
      "source": [
        "print(\"\\nMissing values in training data:\")\n",
        "print(train_data.isnull().sum())\n",
        "\n",
        "print(\"\\nMissing values in test data:\")\n",
        "print(test_data.isnull().sum())"
      ]
    },
    {
      "cell_type": "code",
      "execution_count": 4,
      "id": "c86033e4",
      "metadata": {
        "execution": {
          "iopub.execute_input": "2025-06-05T18:37:13.012006Z",
          "iopub.status.busy": "2025-06-05T18:37:13.011775Z",
          "iopub.status.idle": "2025-06-05T18:37:13.020699Z",
          "shell.execute_reply": "2025-06-05T18:37:13.020083Z"
        },
        "papermill": {
          "duration": 0.015561,
          "end_time": "2025-06-05T18:37:13.021705",
          "exception": false,
          "start_time": "2025-06-05T18:37:13.006144",
          "status": "completed"
        },
        "tags": [],
        "id": "c86033e4"
      },
      "outputs": [],
      "source": [
        "# Sentiment distribution in training data\n",
        "print(\"\\nSentiment distribution in training data:\")\n",
        "print(train_data['sentiment'].value_counts())"
      ]
    },
    {
      "cell_type": "code",
      "execution_count": 5,
      "id": "07ce844c",
      "metadata": {
        "execution": {
          "iopub.execute_input": "2025-06-05T18:37:13.033214Z",
          "iopub.status.busy": "2025-06-05T18:37:13.032978Z",
          "iopub.status.idle": "2025-06-05T18:37:13.294314Z",
          "shell.execute_reply": "2025-06-05T18:37:13.293572Z"
        },
        "papermill": {
          "duration": 0.268157,
          "end_time": "2025-06-05T18:37:13.295420",
          "exception": false,
          "start_time": "2025-06-05T18:37:13.027263",
          "status": "completed"
        },
        "tags": [],
        "id": "07ce844c"
      },
      "outputs": [],
      "source": [
        "# plt.figure(figsize=(10, 6))\n",
        "# sns.countplot(x='sentiment', data=train_data)\n",
        "# plt.title('Sentiment Distribution in Training Data')\n",
        "# plt.show()"
      ]
    },
    {
      "cell_type": "code",
      "execution_count": null,
      "id": "1e85de39",
      "metadata": {
        "execution": {
          "iopub.execute_input": "2025-06-05T18:37:13.307716Z",
          "iopub.status.busy": "2025-06-05T18:37:13.307501Z",
          "iopub.status.idle": "2025-06-05T18:37:13.313548Z",
          "shell.execute_reply": "2025-06-05T18:37:13.313035Z"
        },
        "papermill": {
          "duration": 0.013206,
          "end_time": "2025-06-05T18:37:13.314575",
          "exception": false,
          "start_time": "2025-06-05T18:37:13.301369",
          "status": "completed"
        },
        "tags": [],
        "id": "1e85de39"
      },
      "outputs": [],
      "source": [
        "train_data['text'] = train_data['text'].astype(str)\n",
        "test_data['text'] = test_data['text'].astype(str)"
      ]
    },
    {
      "cell_type": "code",
      "execution_count": null,
      "id": "a8dc5184",
      "metadata": {
        "execution": {
          "iopub.execute_input": "2025-06-05T18:37:13.326724Z",
          "iopub.status.busy": "2025-06-05T18:37:13.326549Z",
          "iopub.status.idle": "2025-06-05T18:37:14.085502Z",
          "shell.execute_reply": "2025-06-05T18:37:14.084724Z"
        },
        "papermill": {
          "duration": 0.767383,
          "end_time": "2025-06-05T18:37:14.087546",
          "exception": false,
          "start_time": "2025-06-05T18:37:13.320163",
          "status": "completed"
        },
        "tags": [],
        "id": "a8dc5184",
        "outputId": "796c7cf4-55a4-48ae-bdcb-d4616d3f0a3d"
      },
      "outputs": [
        {
          "data": {
            "image/png": "[encoded data removed]",
            "text/plain": [
              "<Figure size 1200x600 with 1 Axes>"
            ]
          },
          "metadata": {},
          "output_type": "display_data"
        }
      ],
      "source": [
        "train_data['text_length'] = train_data['text'].apply(len)\n",
        "plt.figure(figsize=(12, 6))\n",
        "sns.histplot(data=train_data, x='text_length', hue='sentiment', bins=50, kde=True)\n",
        "plt.title('Text Length Distribution by Sentiment')\n",
        "plt.xlabel('Text Length')\n",
        "plt.show()\n"
      ]
    },
    {
      "cell_type": "code",
      "execution_count": null,
      "id": "3544b15d",
      "metadata": {
        "execution": {
          "iopub.execute_input": "2025-06-05T18:37:14.131908Z",
          "iopub.status.busy": "2025-06-05T18:37:14.131645Z",
          "iopub.status.idle": "2025-06-05T18:37:14.138420Z",
          "shell.execute_reply": "2025-06-05T18:37:14.137707Z"
        },
        "papermill": {
          "duration": 0.015429,
          "end_time": "2025-06-05T18:37:14.139427",
          "exception": false,
          "start_time": "2025-06-05T18:37:14.123998",
          "status": "completed"
        },
        "tags": [],
        "id": "3544b15d"
      },
      "outputs": [],
      "source": [
        "def clean_text(text):\n",
        "    \"\"\"\n",
        "    Clean and preprocess text data.\n",
        "\n",
        "    Args:\n",
        "        text (str): Input text\n",
        "\n",
        "    Returns:\n",
        "        str: Cleaned text\n",
        "    \"\"\"\n",
        "    if pd.isna(text):\n",
        "        return \"\"\n",
        "\n",
        "\n",
        "    text = text.lower()\n",
        "\n",
        "\n",
        "    text = re.sub(r'https?://\\S+|www\\.\\S+', '', text)\n",
        "\n",
        "\n",
        "    text = re.sub(r'<.*?>', '', text)\n",
        "\n",
        "\n",
        "    text = re.sub(r'@\\w+', '', text)\n",
        "\n",
        "\n",
        "    text = re.sub(r'#(\\w+)', r'\\1', text)\n",
        "\n",
        "\n",
        "    text = text.translate(str.maketrans('', '', string.punctuation))\n",
        "\n",
        "\n",
        "    text = re.sub(r'\\d+', '', text)\n",
        "\n",
        "    text = re.sub(r'\\s+', ' ', text).strip()\n",
        "\n",
        "    return text\n",
        "\n",
        "def preprocess_text(text):\n",
        "    \"\"\"\n",
        "    Full preprocessing pipeline: clean, tokenize, remove stopwords, and lemmatize.\n",
        "\n",
        "    Args:\n",
        "        text (str): Input text\n",
        "\n",
        "    Returns:\n",
        "        str: Preprocessed text\n",
        "    \"\"\"\n",
        "    if pd.isna(text):\n",
        "        return \"\"\n",
        "\n",
        "\n",
        "    text = clean_text(text)\n",
        "\n",
        "\n",
        "    tokens = word_tokenize(text)\n",
        "\n",
        "    stop_words = set(stopwords.words('english'))\n",
        "    tokens = [token for token in tokens if token not in stop_words]\n",
        "\n",
        "    lemmatizer = WordNetLemmatizer()\n",
        "    tokens = [lemmatizer.lemmatize(token) for token in tokens]\n",
        "\n",
        "    processed_text = ' '.join(tokens)\n",
        "\n",
        "    return processed_text"
      ]
    },
    {
      "cell_type": "code",
      "execution_count": 6,
      "id": "48a8591b",
      "metadata": {
        "execution": {
          "iopub.execute_input": "2025-06-05T18:37:14.154515Z",
          "iopub.status.busy": "2025-06-05T18:37:14.154297Z",
          "iopub.status.idle": "2025-06-05T18:37:24.198286Z",
          "shell.execute_reply": "2025-06-05T18:37:24.197348Z"
        },
        "papermill": {
          "duration": 10.053287,
          "end_time": "2025-06-05T18:37:24.199532",
          "exception": false,
          "start_time": "2025-06-05T18:37:14.146245",
          "status": "completed"
        },
        "tags": [],
        "id": "48a8591b"
      },
      "outputs": [],
      "source": [
        "print(\"Preprocessing training data (this may take a few minutes)...\")\n",
        "train_data['processed_text'] = train_data['text'].apply(preprocess_text)\n",
        "\n",
        "print(\"Preprocessing test data (this may take a few minutes)...\")\n",
        "test_data['processed_text'] = test_data['text'].apply(preprocess_text)\n",
        "\n",
        "# Display examples of original vs processed text\n",
        "print(\"\\nOriginal vs Processed Text Examples:\")\n",
        "for i in range(3):\n",
        "    print(f\"Original: {train_data.iloc[i]['text']}\")\n",
        "    print(f\"Processed: {train_data.iloc[i]['processed_text']}\")\n",
        "    print(\"---\")"
      ]
    },
    {
      "cell_type": "code",
      "execution_count": null,
      "id": "1448fe9f",
      "metadata": {
        "execution": {
          "iopub.execute_input": "2025-06-05T18:37:24.228536Z",
          "iopub.status.busy": "2025-06-05T18:37:24.228314Z",
          "iopub.status.idle": "2025-06-05T18:37:24.237136Z",
          "shell.execute_reply": "2025-06-05T18:37:24.236577Z"
        },
        "papermill": {
          "duration": 0.017235,
          "end_time": "2025-06-05T18:37:24.238056",
          "exception": false,
          "start_time": "2025-06-05T18:37:24.220821",
          "status": "completed"
        },
        "tags": [],
        "id": "1448fe9f"
      },
      "outputs": [],
      "source": [
        "sentiment_mapping = {'negative': 0, 'neutral': 2, 'positive': 4}\n",
        "\n",
        "# Check if sentiment column contains text labels or numerical values\n",
        "if train_data['sentiment'].dtype == 'object':\n",
        "    train_data['sentiment_encoded'] = train_data['sentiment'].map(sentiment_mapping)\n",
        "    test_data['sentiment_encoded'] = test_data['sentiment'].map(sentiment_mapping)\n",
        "else:\n",
        "    # If they're already numerical, just copy them\n",
        "    train_data['sentiment_encoded'] = train_data['sentiment']\n",
        "    test_data['sentiment_encoded'] = test_data['sentiment']"
      ]
    },
    {
      "cell_type": "code",
      "execution_count": null,
      "id": "f01aff0d",
      "metadata": {
        "execution": {
          "iopub.execute_input": "2025-06-05T18:37:24.252631Z",
          "iopub.status.busy": "2025-06-05T18:37:24.252400Z",
          "iopub.status.idle": "2025-06-05T18:37:24.259973Z",
          "shell.execute_reply": "2025-06-05T18:37:24.259456Z"
        },
        "papermill": {
          "duration": 0.01588,
          "end_time": "2025-06-05T18:37:24.261096",
          "exception": false,
          "start_time": "2025-06-05T18:37:24.245216",
          "status": "completed"
        },
        "tags": [],
        "id": "f01aff0d"
      },
      "outputs": [],
      "source": [
        "test_data = test_data.dropna(subset=['text', 'sentiment'])"
      ]
    },
    {
      "cell_type": "code",
      "execution_count": 7,
      "id": "9cf9df8a",
      "metadata": {
        "execution": {
          "iopub.execute_input": "2025-06-05T18:37:24.276797Z",
          "iopub.status.busy": "2025-06-05T18:37:24.276377Z",
          "iopub.status.idle": "2025-06-05T18:37:24.290785Z",
          "shell.execute_reply": "2025-06-05T18:37:24.290003Z"
        },
        "papermill": {
          "duration": 0.023397,
          "end_time": "2025-06-05T18:37:24.292004",
          "exception": false,
          "start_time": "2025-06-05T18:37:24.268607",
          "status": "completed"
        },
        "tags": [],
        "id": "9cf9df8a"
      },
      "outputs": [],
      "source": [
        "X_train, X_val, y_train, y_val = train_test_split(\n",
        "    train_data['processed_text'],\n",
        "    train_data['sentiment_encoded'],\n",
        "    test_size=0.2,\n",
        "    random_state=42,\n",
        "    stratify=train_data['sentiment_encoded']\n",
        ")\n",
        "\n",
        "print(\"Training set size:\", X_train.shape[0])\n",
        "print(\"Validation set size:\", X_val.shape[0])"
      ]
    },
    {
      "cell_type": "code",
      "execution_count": null,
      "id": "22500105",
      "metadata": {
        "execution": {
          "iopub.execute_input": "2025-06-05T18:37:24.320317Z",
          "iopub.status.busy": "2025-06-05T18:37:24.319786Z",
          "iopub.status.idle": "2025-06-05T18:37:24.325342Z",
          "shell.execute_reply": "2025-06-05T18:37:24.324861Z"
        },
        "papermill": {
          "duration": 0.013895,
          "end_time": "2025-06-05T18:37:24.326300",
          "exception": false,
          "start_time": "2025-06-05T18:37:24.312405",
          "status": "completed"
        },
        "tags": [],
        "id": "22500105"
      },
      "outputs": [],
      "source": [
        "def train_evaluate_model(model_name, vectorizer, classifier, X_train, y_train, X_val, y_val):\n",
        "    \"\"\"\n",
        "    Train and evaluate a text classification model.\n",
        "\n",
        "    Args:\n",
        "        model_name (str): Name of the model for reporting\n",
        "        vectorizer: Text vectorizer (CountVectorizer or TfidfVectorizer)\n",
        "        classifier: Classifier model\n",
        "        X_train, y_train: Training data\n",
        "        X_val, y_val: Validation data\n",
        "\n",
        "    Returns:\n",
        "        tuple: Trained pipeline and accuracy score\n",
        "    \"\"\"\n",
        "    # Create a pipeline\n",
        "    pipeline = Pipeline([\n",
        "        ('vectorizer', vectorizer),\n",
        "        ('classifier', classifier)\n",
        "    ])\n",
        "\n",
        "    # Train the model\n",
        "    print(f\"Training {model_name}...\")\n",
        "    pipeline.fit(X_train, y_train)\n",
        "\n",
        "    # Make predictions\n",
        "    y_pred = pipeline.predict(X_val)\n",
        "\n",
        "    # Evaluate the model\n",
        "    accuracy = accuracy_score(y_val, y_pred)\n",
        "    print(f\"{model_name} Accuracy: {accuracy:.4f}\")\n",
        "\n",
        "    # Generate classification report\n",
        "    print(\"\\nClassification Report:\")\n",
        "    print(classification_report(y_val, y_pred))\n",
        "\n",
        "    # Generate confusion matrix\n",
        "    cm = confusion_matrix(y_val, y_pred)\n",
        "    plt.figure(figsize=(8, 6))\n",
        "    sns.heatmap(cm, annot=True, fmt='d', cmap='Blues',\n",
        "                xticklabels=['Negative', 'Neutral', 'Positive'],\n",
        "                yticklabels=['Negative', 'Neutral', 'Positive'])\n",
        "    plt.xlabel('Predicted')\n",
        "    plt.ylabel('Actual')\n",
        "    plt.title(f'Confusion Matrix - {model_name}')\n",
        "    plt.show()\n",
        "\n",
        "    return pipeline, accuracy"
      ]
    },
    {
      "cell_type": "code",
      "execution_count": null,
      "id": "58748758",
      "metadata": {
        "execution": {
          "iopub.execute_input": "2025-06-05T18:37:24.340865Z",
          "iopub.status.busy": "2025-06-05T18:37:24.340688Z",
          "iopub.status.idle": "2025-06-05T18:37:24.345069Z",
          "shell.execute_reply": "2025-06-05T18:37:24.344401Z"
        },
        "papermill": {
          "duration": 0.013102,
          "end_time": "2025-06-05T18:37:24.346250",
          "exception": false,
          "start_time": "2025-06-05T18:37:24.333148",
          "status": "completed"
        },
        "tags": [],
        "id": "58748758"
      },
      "outputs": [],
      "source": [
        "# Define vectorizers\n",
        "count_vectorizer = CountVectorizer(max_features=5000)\n",
        "tfidf_vectorizer = TfidfVectorizer(max_features=5000)\n",
        "\n",
        "# Define models to try\n",
        "models = [\n",
        "    ('Logistic Regression with Count Vectors', count_vectorizer, LogisticRegression(max_iter=1000, C=1.0)),\n",
        "    ('Logistic Regression with TF-IDF', tfidf_vectorizer, LogisticRegression(max_iter=1000, C=1.0)),\n",
        "    ('Naive Bayes with Count Vectors', count_vectorizer, MultinomialNB()),\n",
        "    ('Naive Bayes with TF-IDF', tfidf_vectorizer, MultinomialNB()),\n",
        "    ('Linear SVC with TF-IDF', tfidf_vectorizer, LinearSVC(max_iter=1000)),\n",
        "    ('Random Forest with TF-IDF', tfidf_vectorizer, RandomForestClassifier(n_estimators=100))\n",
        "]"
      ]
    },
    {
      "cell_type": "code",
      "execution_count": 8,
      "id": "32334906",
      "metadata": {
        "execution": {
          "iopub.execute_input": "2025-06-05T18:37:24.360969Z",
          "iopub.status.busy": "2025-06-05T18:37:24.360762Z",
          "iopub.status.idle": "2025-06-05T18:38:01.420306Z",
          "shell.execute_reply": "2025-06-05T18:38:01.419477Z"
        },
        "papermill": {
          "duration": 37.068382,
          "end_time": "2025-06-05T18:38:01.421629",
          "exception": false,
          "start_time": "2025-06-05T18:37:24.353247",
          "status": "completed"
        },
        "tags": [],
        "id": "32334906"
      },
      "outputs": [],
      "source": [
        "# Train and evaluate each model\n",
        "results = {}\n",
        "for model_name, vectorizer, classifier in models:\n",
        "    pipeline, accuracy = train_evaluate_model(\n",
        "        model_name, vectorizer, classifier, X_train, y_train, X_val, y_val\n",
        "    )\n",
        "    results[model_name] = (pipeline, accuracy)"
      ]
    },
    {
      "cell_type": "code",
      "execution_count": 10,
      "id": "707eb53a",
      "metadata": {
        "execution": {
          "iopub.execute_input": "2025-06-05T18:38:01.448420Z",
          "iopub.status.busy": "2025-06-05T18:38:01.447925Z",
          "iopub.status.idle": "2025-06-05T18:38:01.452529Z",
          "shell.execute_reply": "2025-06-05T18:38:01.451890Z"
        },
        "papermill": {
          "duration": 0.018716,
          "end_time": "2025-06-05T18:38:01.453579",
          "exception": false,
          "start_time": "2025-06-05T18:38:01.434863",
          "status": "completed"
        },
        "tags": [],
        "id": "707eb53a"
      },
      "outputs": [],
      "source": [
        "# Find the best model\n",
        "best_model_name = max(results.keys(), key=lambda k: results[k][1])\n",
        "best_pipeline, best_accuracy = results[best_model_name]\n",
        "\n",
        "print(f\"\\nBest model: {best_model_name} with accuracy: {best_accuracy:.4f}\")\n"
      ]
    },
    {
      "cell_type": "code",
      "execution_count": null,
      "id": "8f227434",
      "metadata": {
        "execution": {
          "iopub.execute_input": "2025-06-05T18:38:01.501377Z",
          "iopub.status.busy": "2025-06-05T18:38:01.500862Z",
          "iopub.status.idle": "2025-06-05T18:38:02.253758Z",
          "shell.execute_reply": "2025-06-05T18:38:02.252893Z"
        },
        "papermill": {
          "duration": 0.766622,
          "end_time": "2025-06-05T18:38:02.255331",
          "exception": false,
          "start_time": "2025-06-05T18:38:01.488709",
          "status": "completed"
        },
        "tags": [],
        "id": "8f227434"
      },
      "outputs": [],
      "source": [
        "# Get the best model pipeline\n",
        "best_pipeline = results[best_model_name][0]\n",
        "\n",
        "# Make predictions on the validation set\n",
        "y_val_pred = best_pipeline.predict(X_val)\n",
        "\n",
        "def detailed_evaluation(y_true, y_pred, model_name):\n",
        "    \"\"\"\n",
        "    Perform detailed evaluation of model performance\n",
        "\n",
        "    Args:\n",
        "        y_true: True labels\n",
        "        y_pred: Predicted labels\n",
        "        model_name: Name of the model for reporting\n",
        "    Returns:\n",
        "        pd.DataFrame: Classification report as DataFrame\n",
        "    \"\"\"\n",
        "\n",
        "    report = classification_report(y_true, y_pred, output_dict=True)\n",
        "    report_df = pd.DataFrame(report).transpose()\n",
        "\n",
        "    print(f\"Detailed evaluation for {model_name}:\")\n",
        "    display(report_df)\n",
        "\n",
        "    # Visualize F1-scores by class\n",
        "    plt.figure(figsize=(10, 6))\n",
        "\n",
        "    class_labels = ['0', '2', '4']  # Assuming 0=negative, 2=neutral, 4=positive\n",
        "    sns.barplot(x=class_labels, y=report_df.loc[class_labels, 'f1-score'], palette=\"viridis\")\n",
        "    plt.title(f'F1 Scores by Class - {model_name}')\n",
        "    plt.ylabel(\"F1 Score\")\n",
        "    plt.ylim(0, 1)\n",
        "    plt.xlabel(\"Sentiment Class\")\n",
        "    plt.xticks([0, 1, 2], ['Negative (0)', 'Neutral (2)', 'Positive (4)'])\n",
        "    plt.tight_layout()\n",
        "    plt.show()\n",
        "\n",
        "    return report_df"
      ]
    },
    {
      "cell_type": "code",
      "execution_count": 11,
      "id": "03f15fb8",
      "metadata": {
        "execution": {
          "iopub.execute_input": "2025-06-05T18:38:02.280007Z",
          "iopub.status.busy": "2025-06-05T18:38:02.279775Z",
          "iopub.status.idle": "2025-06-05T18:38:02.482064Z",
          "shell.execute_reply": "2025-06-05T18:38:02.481278Z"
        },
        "papermill": {
          "duration": 0.216196,
          "end_time": "2025-06-05T18:38:02.483491",
          "exception": false,
          "start_time": "2025-06-05T18:38:02.267295",
          "status": "completed"
        },
        "tags": [],
        "id": "03f15fb8"
      },
      "outputs": [],
      "source": [
        "# Perform detailed evaluation\n",
        "detailed_results = detailed_evaluation(y_val, y_val_pred, best_model_name)"
      ]
    },
    {
      "cell_type": "code",
      "execution_count": null,
      "id": "39866575",
      "metadata": {
        "execution": {
          "iopub.execute_input": "2025-06-05T18:38:02.510656Z",
          "iopub.status.busy": "2025-06-05T18:38:02.510243Z",
          "iopub.status.idle": "2025-06-05T18:38:02.520637Z",
          "shell.execute_reply": "2025-06-05T18:38:02.520025Z"
        },
        "papermill": {
          "duration": 0.02484,
          "end_time": "2025-06-05T18:38:02.521751",
          "exception": false,
          "start_time": "2025-06-05T18:38:02.496911",
          "status": "completed"
        },
        "tags": [],
        "id": "39866575",
        "outputId": "cd07c73d-801c-4fa9-dc2e-2ba3a0c68884"
      },
      "outputs": [
        {
          "name": "stdout",
          "output_type": "stream",
          "text": [
            "\n",
            "Sample of misclassified examples:\n"
          ]
        },
        {
          "data": {
            "text/html": [
              "<div>\n",
              "<style scoped>\n",
              "    .dataframe tbody tr th:only-of-type {\n",
              "        vertical-align: middle;\n",
              "    }\n",
              "\n",
              "    .dataframe tbody tr th {\n",
              "        vertical-align: top;\n",
              "    }\n",
              "\n",
              "    .dataframe thead th {\n",
              "        text-align: right;\n",
              "    }\n",
              "</style>\n",
              "<table border=\"1\" class=\"dataframe\">\n",
              "  <thead>\n",
              "    <tr style=\"text-align: right;\">\n",
              "      <th></th>\n",
              "      <th>text</th>\n",
              "      <th>true_sentiment</th>\n",
              "      <th>predicted_sentiment</th>\n",
              "    </tr>\n",
              "  </thead>\n",
              "  <tbody>\n",
              "    <tr>\n",
              "      <th>0</th>\n",
              "      <td>awww bb sound lonely want drive therefly snuggle</td>\n",
              "      <td>0</td>\n",
              "      <td>2</td>\n",
              "    </tr>\n",
              "    <tr>\n",
              "      <th>1</th>\n",
              "      <td>dont worried im safe sound</td>\n",
              "      <td>4</td>\n",
              "      <td>0</td>\n",
              "    </tr>\n",
              "    <tr>\n",
              "      <th>2</th>\n",
              "      <td>think disgusting</td>\n",
              "      <td>0</td>\n",
              "      <td>2</td>\n",
              "    </tr>\n",
              "    <tr>\n",
              "      <th>3</th>\n",
              "      <td>babysitting kid wont let play wii</td>\n",
              "      <td>0</td>\n",
              "      <td>2</td>\n",
              "    </tr>\n",
              "    <tr>\n",
              "      <th>4</th>\n",
              "      <td>seems really quiet tonightam jealous clearly e...</td>\n",
              "      <td>2</td>\n",
              "      <td>0</td>\n",
              "    </tr>\n",
              "    <tr>\n",
              "      <th>5</th>\n",
              "      <td>thers many peole tweeting tonight well suppose...</td>\n",
              "      <td>0</td>\n",
              "      <td>2</td>\n",
              "    </tr>\n",
              "    <tr>\n",
              "      <th>6</th>\n",
              "      <td>omg jonas new fave show one guess hahahha</td>\n",
              "      <td>4</td>\n",
              "      <td>2</td>\n",
              "    </tr>\n",
              "    <tr>\n",
              "      <th>7</th>\n",
              "      <td>admit im bit bummed wasnt friend walking today</td>\n",
              "      <td>0</td>\n",
              "      <td>2</td>\n",
              "    </tr>\n",
              "    <tr>\n",
              "      <th>8</th>\n",
              "      <td>good morninghoping throw back coffee like right</td>\n",
              "      <td>2</td>\n",
              "      <td>4</td>\n",
              "    </tr>\n",
              "    <tr>\n",
              "      <th>9</th>\n",
              "      <td>ohhh yea film one fave longgggg time humma humma</td>\n",
              "      <td>4</td>\n",
              "      <td>2</td>\n",
              "    </tr>\n",
              "  </tbody>\n",
              "</table>\n",
              "</div>"
            ],
            "text/plain": [
              "                                                text  true_sentiment  \\\n",
              "0   awww bb sound lonely want drive therefly snuggle               0   \n",
              "1                         dont worried im safe sound               4   \n",
              "2                                   think disgusting               0   \n",
              "3                  babysitting kid wont let play wii               0   \n",
              "4  seems really quiet tonightam jealous clearly e...               2   \n",
              "5  thers many peole tweeting tonight well suppose...               0   \n",
              "6          omg jonas new fave show one guess hahahha               4   \n",
              "7     admit im bit bummed wasnt friend walking today               0   \n",
              "8    good morninghoping throw back coffee like right               2   \n",
              "9   ohhh yea film one fave longgggg time humma humma               4   \n",
              "\n",
              "   predicted_sentiment  \n",
              "0                    2  \n",
              "1                    0  \n",
              "2                    2  \n",
              "3                    2  \n",
              "4                    0  \n",
              "5                    2  \n",
              "6                    2  \n",
              "7                    2  \n",
              "8                    4  \n",
              "9                    2  "
            ]
          },
          "metadata": {},
          "output_type": "display_data"
        }
      ],
      "source": [
        "misclassified_indices = np.where(y_val.values != y_val_pred)[0]\n",
        "misclassified_examples = pd.DataFrame({\n",
        "    'text': X_val.iloc[misclassified_indices].values,\n",
        "    'true_sentiment': y_val.iloc[misclassified_indices].values,\n",
        "    'predicted_sentiment': y_val_pred[misclassified_indices]\n",
        "})\n",
        "\n",
        "print(\"\\nSample of misclassified examples:\")\n",
        "display(misclassified_examples.head(10))"
      ]
    },
    {
      "cell_type": "code",
      "execution_count": null,
      "id": "a1662b97",
      "metadata": {
        "execution": {
          "iopub.execute_input": "2025-06-05T18:38:02.573753Z",
          "iopub.status.busy": "2025-06-05T18:38:02.573560Z",
          "iopub.status.idle": "2025-06-05T18:38:02.807902Z",
          "shell.execute_reply": "2025-06-05T18:38:02.806959Z"
        },
        "papermill": {
          "duration": 0.248736,
          "end_time": "2025-06-05T18:38:02.809108",
          "exception": false,
          "start_time": "2025-06-05T18:38:02.560372",
          "status": "completed"
        },
        "tags": [],
        "id": "a1662b97",
        "outputId": "1be9c175-1e71-46b9-c021-4dcae22f5471"
      },
      "outputs": [
        {
          "name": "stdout",
          "output_type": "stream",
          "text": [
            "Model saved to sentiment_analysis_model.pkl\n"
          ]
        }
      ],
      "source": [
        "import pickle\n",
        "\n",
        "def save_model(model, filename):\n",
        "    \"\"\"\n",
        "    Save a trained model to a file.\n",
        "\n",
        "    Args:\n",
        "        model: Trained model to save\n",
        "        filename: Filename to save the model\n",
        "    \"\"\"\n",
        "    with open(filename, 'wb') as file:\n",
        "        pickle.dump(model, file)\n",
        "    print(f\"Model saved to {filename}\")\n",
        "\n",
        "# Save the best model\n",
        "model_filename = 'sentiment_analysis_model.pkl'\n",
        "save_model(best_pipeline, model_filename)\n",
        "\n",
        "def load_model(filename):\n",
        "    \"\"\"\n",
        "    Load a trained model from a file.\n",
        "\n",
        "    Args:\n",
        "        filename: Filename to load the model from\n",
        "\n",
        "    Returns:\n",
        "        Loaded model\n",
        "    \"\"\"\n",
        "    with open(filename, 'rb') as file:\n",
        "        model = pickle.load(file)\n",
        "    return model\n",
        "\n",
        "def predict_sentiment(text, model):\n",
        "    \"\"\"\n",
        "    Predict sentiment for new text.\n",
        "\n",
        "    Args:\n",
        "        text (str): Input text\n",
        "        model: Trained model\n",
        "\n",
        "    Returns:\n",
        "        int: Predicted sentiment (0=negative, 2=neutral, 4=positive)\n",
        "    \"\"\"\n",
        "\n",
        "    processed_text = preprocess_text(text)\n",
        "\n",
        "    return model.predict([processed_text])[0]"
      ]
    },
    {
      "cell_type": "code",
      "execution_count": 13,
      "id": "b9362e6b",
      "metadata": {
        "execution": {
          "iopub.execute_input": "2025-06-05T18:38:02.880054Z",
          "iopub.status.busy": "2025-06-05T18:38:02.879531Z",
          "iopub.status.idle": "2025-06-05T18:38:03.112356Z",
          "shell.execute_reply": "2025-06-05T18:38:03.111441Z"
        },
        "papermill": {
          "duration": 0.247921,
          "end_time": "2025-06-05T18:38:03.113663",
          "exception": false,
          "start_time": "2025-06-05T18:38:02.865742",
          "status": "completed"
        },
        "tags": [],
        "id": "b9362e6b"
      },
      "outputs": [],
      "source": [
        "loaded_model = load_model(model_filename)\n",
        "\n",
        "test_texts = [\n",
        "    \"I absolutely love this product! It's amazing!\",\n",
        "    \"The service was okay, nothing special.\",\n",
        "    \"This is the worst experience I've ever had. Terrible customer service.\"\n",
        "]\n",
        "\n",
        "print(\"\\nTesting model on new examples:\")\n",
        "for text in test_texts:\n",
        "    sentiment = predict_sentiment(text, loaded_model)\n",
        "    sentiment_label = {0: \"Negative\", 2: \"Neutral\", 4: \"Positive\"}.get(sentiment, \"Unknown\")\n",
        "    print(f\"Text: {text}\")\n",
        "    print(f\"Predicted sentiment: {sentiment_label} ({sentiment})\")\n",
        "    print(\"---\")"
      ]
    },
    {
      "cell_type": "code",
      "execution_count": 14,
      "id": "1f5091b7",
      "metadata": {
        "execution": {
          "iopub.execute_input": "2025-06-05T18:38:03.167583Z",
          "iopub.status.busy": "2025-06-05T18:38:03.167335Z",
          "iopub.status.idle": "2025-06-05T18:38:03.410796Z",
          "shell.execute_reply": "2025-06-05T18:38:03.409712Z"
        },
        "papermill": {
          "duration": 0.259208,
          "end_time": "2025-06-05T18:38:03.412663",
          "exception": false,
          "start_time": "2025-06-05T18:38:03.153455",
          "status": "completed"
        },
        "tags": [],
        "id": "1f5091b7"
      },
      "outputs": [],
      "source": [
        "import pandas as pd\n",
        "import numpy as np\n",
        "import re\n",
        "import string\n",
        "import pickle\n",
        "import nltk\n",
        "from nltk.corpus import stopwords\n",
        "from nltk.tokenize import word_tokenize\n",
        "from nltk.stem import WordNetLemmatizer\n",
        "\n",
        "# Download NLTK resources if needed\n",
        "try:\n",
        "    nltk.data.find('tokenizers/punkt')\n",
        "    nltk.data.find('corpora/stopwords')\n",
        "    nltk.data.find('corpora/wordnet')\n",
        "except LookupError:\n",
        "    nltk.download('punkt')\n",
        "    nltk.download('stopwords')\n",
        "    nltk.download('wordnet')\n",
        "\n",
        "def clean_text(text):\n",
        "    \"\"\"Clean and preprocess text data\"\"\"\n",
        "    if pd.isna(text):\n",
        "        return \"\"\n",
        "\n",
        "    # Convert to lowercase\n",
        "    text = text.lower()\n",
        "\n",
        "    # Remove URLs\n",
        "    text = re.sub(r'https?://\\S+|www\\.\\S+', '', text)\n",
        "\n",
        "    # Remove HTML tags\n",
        "    text = re.sub(r'<.*?>', '', text)\n",
        "\n",
        "    # Remove user mentions\n",
        "    text = re.sub(r'@\\w+', '', text)\n",
        "\n",
        "    # Remove hashtags (keeping the text after #)\n",
        "    text = re.sub(r'#(\\w+)', r'\\1', text)\n",
        "\n",
        "    # Remove punctuation\n",
        "    text = text.translate(str.maketrans('', '', string.punctuation))\n",
        "\n",
        "    # Remove numbers\n",
        "    text = re.sub(r'\\d+', '', text)\n",
        "\n",
        "    # Remove extra whitespace\n",
        "    text = re.sub(r'\\s+', ' ', text).strip()\n",
        "\n",
        "    return text\n",
        "\n",
        "def preprocess_text(text):\n",
        "    \"\"\"Full preprocessing pipeline: clean, tokenize, remove stopwords, and lemmatize\"\"\"\n",
        "    if pd.isna(text):\n",
        "        return \"\"\n",
        "\n",
        "    # Clean text\n",
        "    text = clean_text(text)\n",
        "\n",
        "    # Tokenize\n",
        "    tokens = word_tokenize(text)\n",
        "\n",
        "    # Remove stopwords\n",
        "    stop_words = set(stopwords.words('english'))\n",
        "    tokens = [token for token in tokens if token not in stop_words]\n",
        "\n",
        "    # Lemmatize\n",
        "    lemmatizer = WordNetLemmatizer()\n",
        "    tokens = [lemmatizer.lemmatize(token) for token in tokens]\n",
        "\n",
        "    # Join tokens back into text\n",
        "    processed_text = ' '.join(tokens)\n",
        "\n",
        "    return processed_text\n",
        "\n",
        "def load_model(filename='sentiment_analysis_model.pkl'):\n",
        "    \"\"\"Load the trained sentiment analysis model\"\"\"\n",
        "    with open(filename, 'rb') as file:\n",
        "        model = pickle.load(file)\n",
        "    return model\n",
        "\n",
        "def predict_sentiment(text, model=None):\n",
        "    \"\"\"\n",
        "    Predict sentiment for a given text\n",
        "\n",
        "    Args:\n",
        "        text (str): Input text\n",
        "        model: Pre-loaded model (optional)\n",
        "\n",
        "    Returns:\n",
        "        dict: Prediction results with sentiment label and score\n",
        "    \"\"\"\n",
        "    # Load model if not provided\n",
        "    if model is None:\n",
        "        model = load_model()\n",
        "\n",
        "    # Preprocess text\n",
        "    processed_text = preprocess_text(text)\n",
        "\n",
        "    # Make prediction\n",
        "    sentiment_code = model.predict([processed_text])[0]\n",
        "\n",
        "    # Get prediction probability if model supports it\n",
        "    probabilities = None\n",
        "    try:\n",
        "        probabilities = model.predict_proba([processed_text])[0]\n",
        "    except:\n",
        "        pass\n",
        "\n",
        "    # Map sentiment code to label\n",
        "    sentiment_map = {0: \"Negative\", 2: \"Neutral\", 4: \"Positive\"}\n",
        "    sentiment_label = sentiment_map.get(sentiment_code, \"Unknown\")\n",
        "\n",
        "    # Return results\n",
        "    result = {\n",
        "        'text': text,\n",
        "        'sentiment_code': int(sentiment_code),\n",
        "        'sentiment_label': sentiment_label,\n",
        "    }\n",
        "\n",
        "    if probabilities is not None:\n",
        "        result['probabilities'] = probabilities.tolist()\n",
        "\n",
        "    return result\n",
        "\n",
        "def batch_predict(texts, model=None):\n",
        "    \"\"\"\n",
        "    Make sentiment predictions for a batch of texts\n",
        "\n",
        "    Args:\n",
        "        texts (list): List of input texts\n",
        "        model: Pre-loaded model (optional)\n",
        "\n",
        "    Returns:\n",
        "        list: List of prediction results\n",
        "    \"\"\"\n",
        "    # Load model if not provided\n",
        "    if model is None:\n",
        "        model = load_model()\n",
        "\n",
        "    results = []\n",
        "    for text in texts:\n",
        "        result = predict_sentiment(text, model)\n",
        "        results.append(result)\n",
        "\n",
        "    return results\n",
        "\n",
        "# Example usage\n",
        "if __name__ == \"__main__\":\n",
        "    # Example texts\n",
        "    example_texts = [\n",
        "        \"I absolutely love this product! It's amazing!\",\n",
        "        \"The service was okay, nothing special.\",\n",
        "        \"This is the worst experience I've ever had. Terrible customer service.\"\n",
        "    ]\n",
        "\n",
        "    # Load model\n",
        "    model = load_model()\n",
        "\n",
        "    # Make predictions\n",
        "    print(\"Making predictions for example texts:\")\n",
        "    for text in example_texts:\n",
        "        result = predict_sentiment(text, model)\n",
        "        print(f\"Text: {result['text']}\")\n",
        "        print(f\"Sentiment: {result['sentiment_label']} ({result['sentiment_code']})\")\n",
        "        if 'probabilities' in result:\n",
        "            print(f\"Probabilities: {result['probabilities']}\")\n",
        "        print(\"---\")\n",
        "\n",
        "    # Batch prediction\n",
        "    print(\"\\nBatch prediction example:\")\n",
        "    batch_results = batch_predict(example_texts, model)\n",
        "    for i, result in enumerate(batch_results):\n",
        "        print(f\"Example {i+1}: {result['sentiment_label']}\")"
      ]
    }
  ],
  "metadata": {
    "kaggle": {
      "accelerator": "nvidiaTeslaT4",
      "dataSources": [
        {
          "datasetId": 18,
          "sourceId": 2157,
          "sourceType": "datasetVersion"
        },
        {
          "datasetId": 134715,
          "sourceId": 320111,
          "sourceType": "datasetVersion"
        },
        {
          "datasetId": 989445,
          "sourceId": 1808590,
          "sourceType": "datasetVersion"
        },
        {
          "datasetId": 1520310,
          "sourceId": 2510329,
          "sourceType": "datasetVersion"
        },
        {
          "datasetId": 2477,
          "sourceId": 4140,
          "sourceType": "datasetVersion"
        }
      ],
      "dockerImageVersionId": 31040,
      "isGpuEnabled": true,
      "isInternetEnabled": true,
      "language": "python",
      "sourceType": "notebook"
    },
    "kernelspec": {
      "display_name": "Python 3",
      "language": "python",
      "name": "python3"
    },
    "language_info": {
      "codemirror_mode": {
        "name": "ipython",
        "version": 3
      },
      "file_extension": ".py",
      "mimetype": "text/x-python",
      "name": "python",
      "nbconvert_exporter": "python",
      "pygments_lexer": "ipython3",
      "version": "3.11.11"
    },
    "papermill": {
      "default_parameters": {},
      "duration": 60.15222,
      "end_time": "2025-06-05T18:38:04.518327",
      "environment_variables": {},
      "exception": null,
      "input_path": "__notebook__.ipynb",
      "output_path": "__notebook__.ipynb",
      "parameters": {},
      "start_time": "2025-06-05T18:37:04.366107",
      "version": "2.6.0"
    },
    "colab": {
      "provenance": [],
      "include_colab_link": true
    }
  },
  "nbformat": 4,
  "nbformat_minor": 5
}